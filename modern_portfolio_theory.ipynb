{
 "cells": [
  {
   "cell_type": "markdown",
   "metadata": {},
   "source": [
    "**This notebook is not to be taken as financial advice. I am not a qualified professional, so this notebook is only meant to be used for educational/entertainment purposes. Investing/trading can lead to losses.**"
   ]
  },
  {
   "cell_type": "code",
   "execution_count": 1,
   "metadata": {
    "id": "vINC2lSLSJPj"
   },
   "outputs": [],
   "source": [
    "import numpy as np\n",
    "import pandas as pd\n",
    "from scipy.optimize import minimize\n",
    "import matplotlib.pyplot as plt\n",
    "from IPython.display import display\n",
    "\n",
    "from typing import List, Tuple\n",
    "from functools import lru_cache  # Python 3.9 required\n",
    "\n",
    "import yfinance as yf"
   ]
  },
  {
   "cell_type": "code",
   "execution_count": 2,
   "metadata": {
    "id": "bKUbNnbxWnyv"
   },
   "outputs": [],
   "source": [
    "from matplotlib import rcParams\n",
    "rcParams['figure.figsize'] = 12, 9"
   ]
  },
  {
   "cell_type": "code",
   "execution_count": 3,
   "metadata": {
    "id": "Nfkw-cyYM2NP"
   },
   "outputs": [],
   "source": [
    "TREASURY_BILL_RATE = 0.11  #%, Jan 2021\n",
    "TRADING_DAYS_PER_YEAR = 250"
   ]
  },
  {
   "cell_type": "code",
   "execution_count": 4,
   "metadata": {
    "id": "j6kXdUQLV5JH"
   },
   "outputs": [],
   "source": [
    "# Needed for type hinting\n",
    "class Asset:\n",
    "  pass\n",
    "\n",
    "\n",
    "def get_log_period_returns(price_history: pd.DataFrame):\n",
    "  close = price_history['Close'].values  \n",
    "  return np.log(close[1:] / close[:-1]).reshape(-1, 1)\n",
    "\n",
    "\n",
    "# daily_price_history has to at least have a column, called 'Close'\n",
    "class Asset:\n",
    "  def __init__(self, name: str, daily_price_history: pd.DataFrame):\n",
    "    self.name = name\n",
    "    self.daily_returns = get_log_period_returns(daily_price_history)\n",
    "    self.expected_daily_return = np.mean(self.daily_returns)\n",
    "  \n",
    "  @property\n",
    "  def expected_return(self):\n",
    "    return TRADING_DAYS_PER_YEAR * self.expected_daily_return\n",
    "\n",
    "  def __repr__(self):\n",
    "    return f'<Asset name={self.name}, expected return={self.expected_return}>'\n",
    "\n",
    "  @staticmethod\n",
    "  @lru_cache\n",
    "  def covariance_matrix(assets: Tuple[Asset]):  # tuple for hashing in the cache\n",
    "    product_expectation = np.zeros((len(assets), len(assets)))\n",
    "    for i in range(len(assets)):\n",
    "      for j in range(len(assets)):\n",
    "        if i == j:\n",
    "          product_expectation[i][j] = np.mean(assets[i].daily_returns * assets[j].daily_returns)\n",
    "        else:\n",
    "          product_expectation[i][j] = np.mean(assets[i].daily_returns @ assets[j].daily_returns.T)\n",
    "    \n",
    "    product_expectation *= (TRADING_DAYS_PER_YEAR - 1) ** 2\n",
    "\n",
    "    expected_returns = np.array([asset.expected_return for asset in assets]).reshape(-1, 1)\n",
    "    product_of_expectations = expected_returns @ expected_returns.T\n",
    "\n",
    "    return product_expectation - product_of_expectations\n",
    "\n",
    "\n",
    "def random_weights(weight_count):\n",
    "    weights = np.random.random((weight_count, 1))\n",
    "    weights /= np.sum(weights)\n",
    "    return weights.reshape(-1, 1)\n",
    "\n",
    "\n",
    "class Portfolio:\n",
    "  def __init__(self, assets: Tuple[Asset]):\n",
    "    self.assets = assets\n",
    "    self.asset_expected_returns = np.array([asset.expected_return for asset in assets]).reshape(-1, 1)\n",
    "    self.covariance_matrix = Asset.covariance_matrix(assets)\n",
    "    self.weights = random_weights(len(assets))\n",
    "    \n",
    "  def unsafe_optimize_with_risk_tolerance(self, risk_tolerance: float):\n",
    "    res = minimize(\n",
    "      lambda w: self._variance(w) - risk_tolerance * self._expected_return(w),\n",
    "      random_weights(self.weights.size),\n",
    "      constraints=[\n",
    "        {'type': 'eq', 'fun': lambda w: np.sum(w) - 1.},\n",
    "      ],\n",
    "      bounds=[(0., 1.) for i in range(self.weights.size)]\n",
    "    )\n",
    "\n",
    "    assert res.success, f'Optimization failed: {res.message}'\n",
    "    self.weights = res.x.reshape(-1, 1)\n",
    "  \n",
    "  def optimize_with_risk_tolerance(self, risk_tolerance: float):\n",
    "    assert risk_tolerance >= 0.\n",
    "    return self.unsafe_optimize_with_risk_tolerance(risk_tolerance)\n",
    "  \n",
    "  def optimize_with_expected_return(self, expected_portfolio_return: float):\n",
    "    res = minimize(\n",
    "      lambda w: self._variance(w),\n",
    "      random_weights(self.weights.size),\n",
    "      constraints=[\n",
    "        {'type': 'eq', 'fun': lambda w: np.sum(w) - 1.},\n",
    "        {'type': 'eq', 'fun': lambda w: self._expected_return(w) - expected_portfolio_return},\n",
    "      ],\n",
    "      bounds=[(0., 1.) for i in range(self.weights.size)]\n",
    "    )\n",
    "\n",
    "    assert res.success, f'Optimization failed: {res.message}'\n",
    "    self.weights = res.x.reshape(-1, 1)\n",
    "\n",
    "  def optimize_sharpe_ratio(self):\n",
    "    # Maximize Sharpe ratio = minimize minus Sharpe ratio\n",
    "    res = minimize(\n",
    "      lambda w: -(self._expected_return(w) - TREASURY_BILL_RATE / 100) / np.sqrt(self._variance(w)),\n",
    "      random_weights(self.weights.size),\n",
    "      constraints=[\n",
    "        {'type': 'eq', 'fun': lambda w: np.sum(w) - 1.},\n",
    "      ],\n",
    "      bounds=[(0., 1.) for i in range(self.weights.size)]\n",
    "    )\n",
    "\n",
    "    assert res.success, f'Optimization failed: {res.message}'\n",
    "    self.weights = res.x.reshape(-1, 1)\n",
    "\n",
    "  def _expected_return(self, w):\n",
    "    return (self.asset_expected_returns.T @ w.reshape(-1, 1))[0][0]\n",
    "  \n",
    "  def _variance(self, w):\n",
    "    return (w.reshape(-1, 1).T @ self.covariance_matrix @ w.reshape(-1, 1))[0][0]\n",
    "\n",
    "  @property\n",
    "  def expected_return(self):\n",
    "    return self._expected_return(self.weights)\n",
    "  \n",
    "  @property\n",
    "  def variance(self):\n",
    "    return self._variance(self.weights)\n",
    "\n",
    "  def __repr__(self):\n",
    "    return f'<Portfolio assets={[asset.name for asset in self.assets]}, expected return={self.expected_return}, variance={self.variance}>'"
   ]
  },
  {
   "cell_type": "code",
   "execution_count": 5,
   "metadata": {
    "id": "5l8UeNUZe_Sk"
   },
   "outputs": [],
   "source": [
    "def yf_retrieve_data(tickers: List[str]):\n",
    "  dataframes = []\n",
    "\n",
    "  for ticker_name in tickers:\n",
    "    ticker = yf.Ticker(ticker_name)\n",
    "    history = ticker.history(period='10y')\n",
    "\n",
    "    if history.isnull().any(axis=1).iloc[0]:  # the first row can have NaNs\n",
    "      history = history.iloc[1:]\n",
    "  \n",
    "    assert not history.isnull().any(axis=None), f'history has NaNs in {ticker_name}'\n",
    "    dataframes.append(history)\n",
    "  \n",
    "  return dataframes"
   ]
  },
  {
   "cell_type": "markdown",
   "metadata": {
    "id": "rMtT2WxdRLuZ"
   },
   "source": [
    "## Usage example"
   ]
  },
  {
   "cell_type": "code",
   "execution_count": 6,
   "metadata": {
    "id": "c1XK-SDRLd64"
   },
   "outputs": [],
   "source": [
    "stocks = ['AAPL', 'AMZN', 'GOOG', 'BRK-B', 'JNJ', 'JPM']\n",
    "\n",
    "daily_dataframes = yf_retrieve_data(stocks)\n",
    "assets = tuple([Asset(name, daily_df) for name, daily_df in zip(stocks, daily_dataframes)])"
   ]
  },
  {
   "cell_type": "code",
   "execution_count": 7,
   "metadata": {
    "colab": {
     "base_uri": "https://localhost:8080/"
    },
    "id": "vGeH6kHsfCLR",
    "outputId": "2552965f-80d6-4d55-c2a2-d17cabeddbc2"
   },
   "outputs": [
    {
     "data": {
      "text/plain": [
       "(<Asset name=AAPL, expected return=0.20862452336357526>,\n",
       " <Asset name=AMZN, expected return=0.2021814297669287>,\n",
       " <Asset name=GOOG, expected return=0.17732857272062755>,\n",
       " <Asset name=BRK-B, expected return=0.12743539172293392>,\n",
       " <Asset name=JNJ, expected return=0.12063740900364466>,\n",
       " <Asset name=JPM, expected return=0.14717561803100573>)"
      ]
     },
     "execution_count": 7,
     "metadata": {},
     "output_type": "execute_result"
    }
   ],
   "source": [
    "assets"
   ]
  },
  {
   "cell_type": "code",
   "execution_count": 8,
   "metadata": {
    "id": "tSGq-wqySY_e"
   },
   "outputs": [
    {
     "data": {
      "image/png": "[encoded data removed]",
      "text/plain": [
       "<Figure size 864x648 with 1 Axes>"
      ]
     },
     "metadata": {
      "needs_background": "light"
     },
     "output_type": "display_data"
    }
   ],
   "source": [
    "X = []\n",
    "y = []\n",
    "\n",
    "# Drawing random portfolios\n",
    "for i in range(3000):\n",
    "  portfolio = Portfolio(assets)\n",
    "  X.append(np.sqrt(portfolio.variance))\n",
    "  y.append(portfolio.expected_return)\n",
    "\n",
    "plt.scatter(X, y, label='Random portfolios')\n",
    "\n",
    "# Drawing the efficient frontier\n",
    "X = []\n",
    "y = []\n",
    "for rt in np.linspace(-300, 200, 1000):\n",
    "  portfolio.unsafe_optimize_with_risk_tolerance(rt)\n",
    "  X.append(np.sqrt(portfolio.variance))\n",
    "  y.append(portfolio.expected_return)\n",
    "\n",
    "plt.plot(X, y, 'k', linewidth=3, label='Efficient frontier')\n",
    "\n",
    "# Drawing optimized portfolios\n",
    "portfolio.optimize_with_risk_tolerance(0)\n",
    "plt.plot(np.sqrt(portfolio.variance), portfolio.expected_return, 'm+', markeredgewidth=5, markersize=20, label='optimize_with_risk_tolerance(0)')\n",
    "\n",
    "portfolio.optimize_with_risk_tolerance(20)\n",
    "plt.plot(np.sqrt(portfolio.variance), portfolio.expected_return, 'r+', markeredgewidth=5, markersize=20, label='optimize_with_risk_tolerance(20)')\n",
    "\n",
    "portfolio.optimize_with_expected_return(0.18)\n",
    "plt.plot(np.sqrt(portfolio.variance), portfolio.expected_return, 'g+', markeredgewidth=5, markersize=20, label='optimize_with_expected_return(0.25)')\n",
    "\n",
    "portfolio.optimize_sharpe_ratio()\n",
    "plt.plot(np.sqrt(portfolio.variance), portfolio.expected_return, 'y+', markeredgewidth=5, markersize=20, label='optimize_sharpe_ratio()')\n",
    "\n",
    "plt.xlabel('Portfolio standard deviation')\n",
    "plt.ylabel('Portfolio expected (logarithmic) return')\n",
    "plt.legend(loc='lower right')\n",
    "plt.show()"
   ]
  },
  {
   "cell_type": "code",
   "execution_count": 9,
   "metadata": {
    "id": "bFgV7RZ_-EV9"
   },
   "outputs": [],
   "source": [
    "pd.options.display.float_format = \"{:,.5f}\".format"
   ]
  },
  {
   "cell_type": "code",
   "execution_count": 10,
   "metadata": {
    "id": "i9qAXygFWhbY"
   },
   "outputs": [
    {
     "data": {
      "text/html": [
       "<div>\n",
       "<style scoped>\n",
       "    .dataframe tbody tr th:only-of-type {\n",
       "        vertical-align: middle;\n",
       "    }\n",
       "\n",
       "    .dataframe tbody tr th {\n",
       "        vertical-align: top;\n",
       "    }\n",
       "\n",
       "    .dataframe thead th {\n",
       "        text-align: right;\n",
       "    }\n",
       "</style>\n",
       "<table border=\"1\" class=\"dataframe\">\n",
       "  <thead>\n",
       "    <tr style=\"text-align: right;\">\n",
       "      <th></th>\n",
       "      <th>asset</th>\n",
       "      <th>optimize_with_risk_tolerance(0)</th>\n",
       "      <th>optimize_with_risk_tolerance(20)</th>\n",
       "      <th>optimize_with_expected_return(0.18)</th>\n",
       "      <th>optimize_sharpe_ratio()</th>\n",
       "    </tr>\n",
       "  </thead>\n",
       "  <tbody>\n",
       "    <tr>\n",
       "      <th>0</th>\n",
       "      <td>AAPL</td>\n",
       "      <td>0.10915</td>\n",
       "      <td>0.13734</td>\n",
       "      <td>0.28614</td>\n",
       "      <td>0.15284</td>\n",
       "    </tr>\n",
       "    <tr>\n",
       "      <th>1</th>\n",
       "      <td>AMZN</td>\n",
       "      <td>0.08800</td>\n",
       "      <td>0.10826</td>\n",
       "      <td>0.21512</td>\n",
       "      <td>0.11917</td>\n",
       "    </tr>\n",
       "    <tr>\n",
       "      <th>2</th>\n",
       "      <td>GOOG</td>\n",
       "      <td>0.12854</td>\n",
       "      <td>0.14408</td>\n",
       "      <td>0.22605</td>\n",
       "      <td>0.15315</td>\n",
       "    </tr>\n",
       "    <tr>\n",
       "      <th>3</th>\n",
       "      <td>BRK-B</td>\n",
       "      <td>0.24885</td>\n",
       "      <td>0.22430</td>\n",
       "      <td>0.09510</td>\n",
       "      <td>0.21060</td>\n",
       "    </tr>\n",
       "    <tr>\n",
       "      <th>4</th>\n",
       "      <td>JNJ</td>\n",
       "      <td>0.29610</td>\n",
       "      <td>0.25812</td>\n",
       "      <td>0.05766</td>\n",
       "      <td>0.23697</td>\n",
       "    </tr>\n",
       "    <tr>\n",
       "      <th>5</th>\n",
       "      <td>JPM</td>\n",
       "      <td>0.12937</td>\n",
       "      <td>0.12789</td>\n",
       "      <td>0.11993</td>\n",
       "      <td>0.12728</td>\n",
       "    </tr>\n",
       "  </tbody>\n",
       "</table>\n",
       "</div>"
      ],
      "text/plain": [
       "   asset  optimize_with_risk_tolerance(0)  optimize_with_risk_tolerance(20)  \\\n",
       "0   AAPL                          0.10915                           0.13734   \n",
       "1   AMZN                          0.08800                           0.10826   \n",
       "2   GOOG                          0.12854                           0.14408   \n",
       "3  BRK-B                          0.24885                           0.22430   \n",
       "4    JNJ                          0.29610                           0.25812   \n",
       "5    JPM                          0.12937                           0.12789   \n",
       "\n",
       "   optimize_with_expected_return(0.18)  optimize_sharpe_ratio()  \n",
       "0                              0.28614                  0.15284  \n",
       "1                              0.21512                  0.11917  \n",
       "2                              0.22605                  0.15315  \n",
       "3                              0.09510                  0.21060  \n",
       "4                              0.05766                  0.23697  \n",
       "5                              0.11993                  0.12728  "
      ]
     },
     "metadata": {},
     "output_type": "display_data"
    }
   ],
   "source": [
    "portfolio = Portfolio(assets)\n",
    "portfolio.optimize_with_risk_tolerance(0)\n",
    "riskless_weights = portfolio.weights.flatten()\n",
    "\n",
    "portfolio.optimize_with_risk_tolerance(20)\n",
    "weights_risk_tolerance = portfolio.weights.flatten()\n",
    "\n",
    "portfolio.optimize_with_expected_return(0.18)\n",
    "weights_return = portfolio.weights.flatten()\n",
    "\n",
    "portfolio.optimize_sharpe_ratio()\n",
    "weights_sharpe = portfolio.weights.flatten()\n",
    "\n",
    "display(\n",
    "  pd.DataFrame(\n",
    "    list(\n",
    "      zip(\n",
    "        [asset.name for asset in portfolio.assets],\n",
    "        riskless_weights,\n",
    "        weights_risk_tolerance,\n",
    "        weights_return,\n",
    "        weights_sharpe,\n",
    "      )\n",
    "    ),\n",
    "    columns=[\n",
    "      'asset',\n",
    "      'optimize_with_risk_tolerance(0)',\n",
    "      'optimize_with_risk_tolerance(20)',\n",
    "      'optimize_with_expected_return(0.18)',\n",
    "      'optimize_sharpe_ratio()',\n",
    "    ],\n",
    "  )\n",
    ")"
   ]
  },
  {
   "cell_type": "code",
   "execution_count": null,
   "metadata": {},
   "outputs": [],
   "source": []
  }
 ],
 "metadata": {
  "colab": {
   "collapsed_sections": [],
   "name": "Copy of modern_portfolio_theory",
   "provenance": []
  },
  "kernelspec": {
   "display_name": "Python 3.8.5 ('base')",
   "language": "python",
   "name": "python3"
  },
  "language_info": {
   "codemirror_mode": {
    "name": "ipython",
    "version": 3
   },
   "file_extension": ".py",
   "mimetype": "text/x-python",
   "name": "python",
   "nbconvert_exporter": "python",
   "pygments_lexer": "ipython3",
   "version": "3.8.5"
  },
  "vscode": {
   "interpreter": {
    "hash": "40d3a090f54c6569ab1632332b64b2c03c39dcf918b08424e98f38b5ae0af88f"
   }
  }
 },
 "nbformat": 4,
 "nbformat_minor": 4
}
